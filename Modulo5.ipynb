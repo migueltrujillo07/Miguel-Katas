{
 "cells": [
  {
   "cell_type": "markdown",
   "metadata": {},
   "source": [
    "## Ejercicio 1 - Utilizar operadores aritméticos"
   ]
  },
  {
   "cell_type": "code",
   "execution_count": 1,
   "metadata": {},
   "outputs": [
    {
     "name": "stdout",
     "output_type": "stream",
     "text": [
      "628949330\n",
      "390577533.93\n"
     ]
    }
   ],
   "source": [
    "distancia_tierra = 149597870\n",
    "distancia_jupyter = 778547200\n",
    "\n",
    "distancia_entre_planeatas = distancia_jupyter -distancia_tierra\n",
    "distancia_entre_planeatas_millas = distancia_entre_planeatas * (0.621)\n",
    "\n",
    "print(distancia_entre_planeatas)\n",
    "print(distancia_entre_planeatas_millas)"
   ]
  },
  {
   "cell_type": "markdown",
   "metadata": {},
   "source": [
    "## Ejercicio 2: convierte cadenas en números y usa valores absolutos"
   ]
  },
  {
   "cell_type": "code",
   "execution_count": 2,
   "metadata": {},
   "outputs": [
    {
     "name": "stdout",
     "output_type": "stream",
     "text": [
      "78300000\n",
      "48624300.0\n"
     ]
    }
   ],
   "source": [
    "\n",
    "distancia_tierra = int (input(\"Cual es la distancia del sol a la tierra?\"))\n",
    "distancia_marte = int(input(\"Cual es la distasncia de Marte al sol\"))\n",
    "distancia_entre_planets = distancia_tierra - distancia_marte\n",
    "distancia_abs = abs(distancia_entre_planets)\n",
    "\n",
    "distancia_abs_mill = distancia_abs *0.621\n",
    "\n",
    "print(distancia_abs)\n",
    "print(distancia_abs_mill)"
   ]
  }
 ],
 "metadata": {
  "interpreter": {
   "hash": "e7370f93d1d0cde622a1f8e1c04877d8463912d04d973331ad4851f04de6915a"
  },
  "kernelspec": {
   "display_name": "Python 3.8.10 64-bit",
   "language": "python",
   "name": "python3"
  },
  "language_info": {
   "codemirror_mode": {
    "name": "ipython",
    "version": 3
   },
   "file_extension": ".py",
   "mimetype": "text/x-python",
   "name": "python",
   "nbconvert_exporter": "python",
   "pygments_lexer": "ipython3",
   "version": "3.8.10"
  },
  "orig_nbformat": 4
 },
 "nbformat": 4,
 "nbformat_minor": 2
}
