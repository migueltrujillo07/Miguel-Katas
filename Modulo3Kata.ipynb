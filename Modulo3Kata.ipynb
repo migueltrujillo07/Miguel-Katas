{
 "cells": [
  {
   "cell_type": "markdown",
   "metadata": {},
   "source": [
    "## Ejercio 1\n",
    "# Añadir el código necesario para crear una variable que guarde la velocidad del asteroide.\n",
    "# Escribe una expresión de prueba para calcular si necesita una advertencia.\n",
    "# Agregue las instrucciones que se ejecutarán si la expresión de prueba es true o false.\n"
   ]
  },
  {
   "cell_type": "code",
   "execution_count": 1,
   "metadata": {},
   "outputs": [],
   "source": [
    "velocidad = int(input('Velocidad del asteroide '))\n",
    "if velocidad >= 25:\n",
    "    print('CUidadoooo Asteroide en camino')\n",
    "     \n",
    "else:\n",
    "    print(\"Sin nada de que procuparse\")"
   ]
  },
  {
   "cell_type": "markdown",
   "metadata": {},
   "source": [
    "## Problema No. 2\n",
    "# Agrega el código para crear una variable para un asteroide que viaja a 19 km/s\n",
    "# Escribe varias expresiones de prueba para determinar si puedes ver el rayo de luz desde la tierra\n",
    "# Agrega las instrucciones que se ejecutarán si las expresiones de prueba son True o False"
   ]
  },
  {
   "cell_type": "code",
   "execution_count": null,
   "metadata": {},
   "outputs": [],
   "source": [
    "vel_asteroide = int(input(\"Velocidad del Astteroide\"))\n",
    "if vel_asteroide > 20:\n",
    "    print(\"Wacha el asteroide, se ve una luz en el cielo\")\n",
    "\n",
    "elif vel_asteroide == 20:\n",
    "    print(\"Mira para aariba hay un asteroide\")\n",
    "\n",
    "else:\n",
    "    print(\"Todo claro \")"
   ]
  },
  {
   "cell_type": "markdown",
   "metadata": {},
   "source": [
    "## Problema No 3 \n",
    "# Agrega el código para crear nuevas variables para la velocidad y el tamaño del asteroide\n",
    "# Para probar el código, prueba con varias velocidades y tamaños\n",
    "# Escribe varias expresiones de prueba o combinaciones de expresiones de prueba para determinar qué mensaje se debe enviar a Tierra."
   ]
  },
  {
   "cell_type": "code",
   "execution_count": null,
   "metadata": {},
   "outputs": [],
   "source": [
    "velocity = int(input(\"Ingrese la velocidad del asteroide\"))\n",
    "size = int(input(\"Ingrese el tamaño del asteroide\"))\n",
    "\n",
    "if velocity and size >= 25:\n",
    "    print(\"RUUUUN!\")\n",
    "\n",
    "elif velocity == 20:\n",
    "    print(\"Mira el cielo hay un asteroide\")\n",
    "\n",
    "elif size <= 25:\n",
    "    print(\"Sin ṕroblemas\")\n",
    "\n",
    "else:\n",
    "    print(\"Todo tranqui\")"
   ]
  }
 ],
 "metadata": {
  "interpreter": {
   "hash": "e7370f93d1d0cde622a1f8e1c04877d8463912d04d973331ad4851f04de6915a"
  },
  "kernelspec": {
   "display_name": "Python 3.8.10 64-bit",
   "language": "python",
   "name": "python3"
  },
  "language_info": {
   "codemirror_mode": {
    "name": "ipython",
    "version": 3
   },
   "file_extension": ".py",
   "mimetype": "text/x-python",
   "name": "python",
   "nbconvert_exporter": "python",
   "pygments_lexer": "ipython3",
   "version": "3.8.10"
  },
  "orig_nbformat": 4
 },
 "nbformat": 4,
 "nbformat_minor": 2
}
